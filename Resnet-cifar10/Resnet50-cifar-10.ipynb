{
 "cells": [
  {
   "cell_type": "markdown",
   "metadata": {},
   "source": [
    "# 使用ResNet50搭建cifar-10分类系统"
   ]
  },
  {
   "cell_type": "code",
   "execution_count": 4,
   "metadata": {
    "collapsed": true
   },
   "outputs": [],
   "source": [
    "import numpy as np\n",
    "import pandas as pd\n",
    "import os"
   ]
  },
  {
   "cell_type": "code",
   "execution_count": 15,
   "metadata": {
    "collapsed": true
   },
   "outputs": [],
   "source": [
    "#首先将各个类别的图片和种类进行对应（训练集）\n",
    "with open('train.txt','w') as w:\n",
    "    for root, dirs, files in os.walk('train/'):\n",
    "        for i in files:\n",
    "            if i[0]==('.'):\n",
    "                continue\n",
    "            if i.split('_')[2] == 'automobile':\n",
    "                w.write(i+' '+'0\\n')\n",
    "            elif i.split('_')[2] == 'airplane':\n",
    "                w.write(i+' '+'1\\n')\n",
    "            elif i.split('_')[2] == 'bird':\n",
    "                w.write(i+' '+'2\\n')\n",
    "            elif i.split('_')[2] == 'cat':\n",
    "                w.write(i+' '+'3\\n')\n",
    "            elif i.split('_')[2] == 'deer':\n",
    "                w.write(i+' '+'4\\n')\n",
    "            elif i.split('_')[2] == 'frog':\n",
    "                w.write(i+' '+'5\\n')\n",
    "            elif i.split('_')[2] == 'dog':\n",
    "                w.write(i+' '+'6\\n')\n",
    "            elif i.split('_')[2] == 'truck':\n",
    "                w.write(i+' '+'7\\n')\n",
    "            elif i.split('_')[2] == 'ship':\n",
    "                w.write(i+' '+'8\\n')\n",
    "            elif i.split('_')[2] == 'horse':\n",
    "                w.write(i+' '+'9\\n')"
   ]
  },
  {
   "cell_type": "code",
   "execution_count": 16,
   "metadata": {
    "collapsed": true
   },
   "outputs": [],
   "source": [
    "#首先将各个类别的图片和种类进行对应（测试集）\n",
    "with open('test.txt','w') as w:\n",
    "    for root, dirs, files in os.walk('test/'):\n",
    "        for i in files:\n",
    "            if i[0]==('.'):\n",
    "                continue\n",
    "            if i.split('_')[2] == 'automobile':\n",
    "                w.write(i+' '+'0\\n')\n",
    "            elif i.split('_')[2] == 'airplane':\n",
    "                w.write(i+' '+'1\\n')\n",
    "            elif i.split('_')[2] == 'bird':\n",
    "                w.write(i+' '+'2\\n')\n",
    "            elif i.split('_')[2] == 'cat':\n",
    "                w.write(i+' '+'3\\n')\n",
    "            elif i.split('_')[2] == 'deer':\n",
    "                w.write(i+' '+'4\\n')\n",
    "            elif i.split('_')[2] == 'frog':\n",
    "                w.write(i+' '+'5\\n')\n",
    "            elif i.split('_')[2] == 'dog':\n",
    "                w.write(i+' '+'6\\n')\n",
    "            elif i.split('_')[2] == 'truck':\n",
    "                w.write(i+' '+'7\\n')\n",
    "            elif i.split('_')[2] == 'ship':\n",
    "                w.write(i+' '+'8\\n')\n",
    "            elif i.split('_')[2] == 'horse':\n",
    "                w.write(i+' '+'9\\n')"
   ]
  },
  {
   "cell_type": "code",
   "execution_count": 36,
   "metadata": {},
   "outputs": [],
   "source": [
    "#导入相应的包\n",
    "import cv2\n",
    "import time\n",
    "import tensorflow as tf\n",
    "import keras\n",
    "from keras.models import Model\n",
    "from keras.layers import Dense,Activation,Flatten,Dropout\n",
    "from keras.utils import np_utils\n",
    "from keras.applications.resnet50 import ResNet50\n",
    "from PIL import Image\n",
    "from sklearn.model_selection import train_test_split\n",
    "from sklearn.preprocessing import StandardScaler,LabelEncoder"
   ]
  },
  {
   "cell_type": "code",
   "execution_count": 37,
   "metadata": {},
   "outputs": [],
   "source": [
    "#把txt转换为csv\n",
    "def tranverse_images(path):\n",
    "    labels = pd.DataFrame()\n",
    "    flowers = []\n",
    "    items = []\n",
    "    with open(path,'r') as f:\n",
    "        for line in f.readlines():\n",
    "            flower,item = line.strip().split(' ')\n",
    "            flowers.append(flower)\n",
    "            items.append(item)\n",
    "    labels_data = pd.DataFrame({'flower': flowers, 'labels': items})\n",
    "    labels = pd.concat((labels, labels_data)) \n",
    "    return labels\n",
    "\n",
    "train_and_labels = tranverse_images('train.txt')#50000行数据\n",
    "test_and_labels = tranverse_images('test.txt')#10000行数据"
   ]
  },
  {
   "cell_type": "code",
   "execution_count": 38,
   "metadata": {},
   "outputs": [
    {
     "data": {
      "text/plain": [
       "(32, 32, 3)"
      ]
     },
     "execution_count": 38,
     "metadata": {},
     "output_type": "execute_result"
    }
   ],
   "source": [
    "#查看图片尺寸\n",
    "image = cv2.imread('./train/batch_1_airplane_29.jpg')\n",
    "image.shape#(32, 32, 3)每张图片的size如此\n",
    "image = cv2.imread('./test/batch_1_airplane_2679.jpg')\n",
    "image.shape#(32, 32, 3)每张图片的size如此"
   ]
  },
  {
   "cell_type": "code",
   "execution_count": 39,
   "metadata": {},
   "outputs": [
    {
     "name": "stdout",
     "output_type": "stream",
     "text": [
      "(50000, 32, 32, 3)\n"
     ]
    }
   ],
   "source": [
    "#img2array\n",
    "def img2array(label,path):\n",
    "    lis_imgs = [I for I in train_and_labels['flower']]\n",
    "    return np.array([np.array(Image.open(path+img)) for img in lis_imgs])\n",
    "\n",
    "X = img2array(train_and_labels,'./train/')\n",
    "print(X.shape)\n",
    "np.save('./X_train.npy',X)"
   ]
  },
  {
   "cell_type": "code",
   "execution_count": 40,
   "metadata": {},
   "outputs": [
    {
     "name": "stdout",
     "output_type": "stream",
     "text": [
      "(10000, 32, 32, 3)\n"
     ]
    }
   ],
   "source": [
    "def img2array2(label,path):\n",
    "    lis_imgs = [I for I in test_and_labels['flower']]\n",
    "    return np.array([np.array(Image.open(path+img)) for img in lis_imgs])\n",
    "\n",
    "test_X = img2array2(test_and_labels,'./test/')\n",
    "print(test_X.shape)\n",
    "np.save('./X_test.npy',test_X)"
   ]
  },
  {
   "cell_type": "code",
   "execution_count": 41,
   "metadata": {},
   "outputs": [],
   "source": [
    "X = X/255\n",
    "test_X = test_X/255\n",
    "y_train = train_and_labels['labels']\n",
    "y_test = test_and_labels['labels']\n",
    "y_train = np_utils.to_categorical(y_train, 10)\n",
    "y_test = np_utils.to_categorical(y_test, 10)"
   ]
  },
  {
   "cell_type": "code",
   "execution_count": 44,
   "metadata": {
    "collapsed": true
   },
   "outputs": [],
   "source": [
    "def flower_model(X_train, y_train):\n",
    "    base_model = ResNet50(include_top=False, weights='imagenet', input_shape=(32, 32, 3))\n",
    "    for layers in base_model.layers:\n",
    "        layers.trainable = False\n",
    "    model = Flatten()(base_model.output)\n",
    "    model = Dense(128, activation='relu')(model)\n",
    "    model = Dropout(0.5)(model)\n",
    "    model = Dense(10, activation='softmax')(model)\n",
    "\n",
    "    model = Model(inputs=base_model.input, outputs=model)\n",
    "    model.compile(loss='categorical_crossentropy', optimizer='adam', metrics=['accuracy'])\n",
    "    model.fit(X_train, y_train, batch_size=128, epochs=50) \n",
    "\n",
    "    return model"
   ]
  },
  {
   "cell_type": "code",
   "execution_count": 45,
   "metadata": {},
   "outputs": [
    {
     "name": "stderr",
     "output_type": "stream",
     "text": [
      "/Users/caijie/anaconda3/lib/python3.6/site-packages/keras_applications/resnet50.py:265: UserWarning: The output shape of `ResNet50(include_top=False)` has been changed since Keras 2.2.0.\n",
      "  warnings.warn('The output shape of `ResNet50(include_top=False)` '\n"
     ]
    },
    {
     "name": "stdout",
     "output_type": "stream",
     "text": [
      "Epoch 1/50\n",
      "50000/50000 [==============================] - 322s 6ms/step - loss: 1.8774 - acc: 0.3451\n",
      "Epoch 2/50\n",
      "50000/50000 [==============================] - 324s 6ms/step - loss: 1.6031 - acc: 0.4351\n",
      "Epoch 3/50\n",
      "50000/50000 [==============================] - 317s 6ms/step - loss: 1.5125 - acc: 0.4644\n",
      "Epoch 4/50\n",
      "50000/50000 [==============================] - 310s 6ms/step - loss: 1.4666 - acc: 0.4834\n",
      "Epoch 5/50\n",
      "50000/50000 [==============================] - 311s 6ms/step - loss: 1.4236 - acc: 0.4951\n",
      "Epoch 6/50\n",
      "50000/50000 [==============================] - 301s 6ms/step - loss: 1.3891 - acc: 0.5105\n",
      "Epoch 7/50\n",
      "50000/50000 [==============================] - 322s 6ms/step - loss: 1.3616 - acc: 0.5167\n",
      "Epoch 8/50\n",
      "50000/50000 [==============================] - 314s 6ms/step - loss: 1.3497 - acc: 0.5222\n",
      "Epoch 9/50\n",
      "50000/50000 [==============================] - 335s 7ms/step - loss: 1.3243 - acc: 0.5294\n",
      "Epoch 10/50\n",
      "50000/50000 [==============================] - 321s 6ms/step - loss: 1.3117 - acc: 0.5357\n",
      "Epoch 11/50\n",
      "50000/50000 [==============================] - 322s 6ms/step - loss: 1.2949 - acc: 0.5364\n",
      "Epoch 12/50\n",
      "50000/50000 [==============================] - 318s 6ms/step - loss: 1.2839 - acc: 0.5459\n",
      "Epoch 13/50\n",
      "50000/50000 [==============================] - 315s 6ms/step - loss: 1.2697 - acc: 0.5473\n",
      "Epoch 14/50\n",
      "50000/50000 [==============================] - 356s 7ms/step - loss: 1.2582 - acc: 0.5520\n",
      "Epoch 15/50\n",
      "50000/50000 [==============================] - 332s 7ms/step - loss: 1.2489 - acc: 0.5550\n",
      "Epoch 16/50\n",
      "50000/50000 [==============================] - 339s 7ms/step - loss: 1.2466 - acc: 0.5545\n",
      "Epoch 17/50\n",
      "50000/50000 [==============================] - 337s 7ms/step - loss: 1.2356 - acc: 0.5564\n",
      "Epoch 18/50\n",
      "50000/50000 [==============================] - 318s 6ms/step - loss: 1.2208 - acc: 0.5638\n",
      "Epoch 19/50\n",
      "50000/50000 [==============================] - 333s 7ms/step - loss: 1.2188 - acc: 0.5639\n",
      "Epoch 20/50\n",
      "50000/50000 [==============================] - 344s 7ms/step - loss: 1.2149 - acc: 0.5651\n",
      "Epoch 21/50\n",
      "50000/50000 [==============================] - 311s 6ms/step - loss: 1.1998 - acc: 0.5687\n",
      "Epoch 22/50\n",
      "50000/50000 [==============================] - 311s 6ms/step - loss: 1.1904 - acc: 0.5720\n",
      "Epoch 23/50\n",
      "50000/50000 [==============================] - 310s 6ms/step - loss: 1.1858 - acc: 0.5771\n",
      "Epoch 24/50\n",
      "50000/50000 [==============================] - 546s 11ms/step - loss: 1.1801 - acc: 0.5748\n",
      "Epoch 25/50\n",
      "50000/50000 [==============================] - 558s 11ms/step - loss: 1.1740 - acc: 0.5803\n",
      "Epoch 26/50\n",
      "50000/50000 [==============================] - 408s 8ms/step - loss: 1.1754 - acc: 0.5812\n",
      "Epoch 27/50\n",
      "50000/50000 [==============================] - 382s 8ms/step - loss: 1.1704 - acc: 0.5817\n",
      "Epoch 28/50\n",
      "50000/50000 [==============================] - 316s 6ms/step - loss: 1.1582 - acc: 0.5851\n",
      "Epoch 29/50\n",
      "50000/50000 [==============================] - 315s 6ms/step - loss: 1.1563 - acc: 0.5848\n",
      "Epoch 30/50\n",
      "50000/50000 [==============================] - 315s 6ms/step - loss: 1.1451 - acc: 0.5901\n",
      "Epoch 31/50\n",
      "50000/50000 [==============================] - 316s 6ms/step - loss: 1.1415 - acc: 0.5918\n",
      "Epoch 32/50\n",
      "50000/50000 [==============================] - 315s 6ms/step - loss: 1.1458 - acc: 0.5883\n",
      "Epoch 33/50\n",
      "50000/50000 [==============================] - 314s 6ms/step - loss: 1.1418 - acc: 0.5897\n",
      "Epoch 34/50\n",
      "50000/50000 [==============================] - 314s 6ms/step - loss: 1.1323 - acc: 0.5945\n",
      "Epoch 35/50\n",
      "50000/50000 [==============================] - 315s 6ms/step - loss: 1.1397 - acc: 0.5903\n",
      "Epoch 36/50\n",
      "50000/50000 [==============================] - 314s 6ms/step - loss: 1.1277 - acc: 0.5924\n",
      "Epoch 37/50\n",
      "50000/50000 [==============================] - 316s 6ms/step - loss: 1.1236 - acc: 0.5938\n",
      "Epoch 38/50\n",
      "50000/50000 [==============================] - 316s 6ms/step - loss: 1.1246 - acc: 0.5964\n",
      "Epoch 39/50\n",
      "50000/50000 [==============================] - 385s 8ms/step - loss: 1.1251 - acc: 0.5951\n",
      "Epoch 40/50\n",
      "50000/50000 [==============================] - 412s 8ms/step - loss: 1.1215 - acc: 0.5947\n",
      "Epoch 41/50\n",
      "50000/50000 [==============================] - 376s 8ms/step - loss: 1.1126 - acc: 0.5992\n",
      "Epoch 42/50\n",
      "50000/50000 [==============================] - 351s 7ms/step - loss: 1.1153 - acc: 0.5963\n",
      "Epoch 43/50\n",
      "50000/50000 [==============================] - 377s 8ms/step - loss: 1.1116 - acc: 0.6019\n",
      "Epoch 44/50\n",
      "50000/50000 [==============================] - 379s 8ms/step - loss: 1.1086 - acc: 0.5975\n",
      "Epoch 45/50\n",
      "50000/50000 [==============================] - 417s 8ms/step - loss: 1.1000 - acc: 0.6037\n",
      "Epoch 46/50\n",
      "50000/50000 [==============================] - 486s 10ms/step - loss: 1.1018 - acc: 0.6016\n",
      "Epoch 47/50\n",
      "50000/50000 [==============================] - 407s 8ms/step - loss: 1.0953 - acc: 0.6024\n",
      "Epoch 48/50\n",
      "50000/50000 [==============================] - 370s 7ms/step - loss: 1.0952 - acc: 0.6047\n",
      "Epoch 49/50\n",
      "50000/50000 [==============================] - 409s 8ms/step - loss: 1.0912 - acc: 0.6069\n",
      "Epoch 50/50\n",
      "50000/50000 [==============================] - 379s 8ms/step - loss: 1.0867 - acc: 0.6092\n"
     ]
    },
    {
     "data": {
      "text/plain": [
       "[11.559770764160156, 0.10000000000000001]"
      ]
     },
     "execution_count": 45,
     "metadata": {},
     "output_type": "execute_result"
    }
   ],
   "source": [
    "model = flower_model(X, y_train)\n",
    "model.evaluate(test_X, y_test, verbose=0)"
   ]
  },
  {
   "cell_type": "code",
   "execution_count": null,
   "metadata": {
    "collapsed": true
   },
   "outputs": [],
   "source": []
  }
 ],
 "metadata": {
  "kernelspec": {
   "display_name": "Python 3",
   "language": "python",
   "name": "python3"
  },
  "language_info": {
   "codemirror_mode": {
    "name": "ipython",
    "version": 3
   },
   "file_extension": ".py",
   "mimetype": "text/x-python",
   "name": "python",
   "nbconvert_exporter": "python",
   "pygments_lexer": "ipython3",
   "version": "3.6.3"
  }
 },
 "nbformat": 4,
 "nbformat_minor": 2
}
